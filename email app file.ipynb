{
 "cells": [
  {
   "cell_type": "code",
   "execution_count": 1,
   "metadata": {},
   "outputs": [],
   "source": [
    "import os\n"
   ]
  },
  {
   "cell_type": "code",
   "execution_count": 2,
   "metadata": {},
   "outputs": [
    {
     "name": "stdout",
     "output_type": "stream",
     "text": [
      "Defaulting to user installation because normal site-packages is not writeable\n"
     ]
    },
    {
     "name": "stderr",
     "output_type": "stream",
     "text": [
      "ERROR: Could not find a version that satisfies the requirement steamlit (from versions: none)\n",
      "ERROR: No matching distribution found for steamlit\n",
      "\n",
      "[notice] A new release of pip is available: 23.0.1 -> 23.1.2\n",
      "[notice] To update, run: python.exe -m pip install --upgrade pip\n"
     ]
    }
   ],
   "source": [
    "!pip install steamlit"
   ]
  },
  {
   "cell_type": "code",
   "execution_count": 4,
   "metadata": {},
   "outputs": [
    {
     "name": "stdout",
     "output_type": "stream",
     "text": [
      "Defaulting to user installation because normal site-packages is not writeable\n",
      "Requirement already satisfied: pip in c:\\users\\user\\appdata\\roaming\\python\\python310\\site-packages (23.0.1)\n",
      "Collecting pip\n",
      "  Downloading pip-23.1.2-py3-none-any.whl (2.1 MB)\n",
      "     ---------------------------------------- 0.0/2.1 MB ? eta -:--:--\n",
      "      --------------------------------------- 0.0/2.1 MB 660.6 kB/s eta 0:00:04\n",
      "     -- ------------------------------------- 0.1/2.1 MB 1.1 MB/s eta 0:00:02\n",
      "     --- ------------------------------------ 0.2/2.1 MB 1.3 MB/s eta 0:00:02\n",
      "     ----- ---------------------------------- 0.3/2.1 MB 1.5 MB/s eta 0:00:02\n",
      "     ------- -------------------------------- 0.4/2.1 MB 1.6 MB/s eta 0:00:02\n",
      "     --------- ------------------------------ 0.5/2.1 MB 1.7 MB/s eta 0:00:01\n",
      "     ---------- ----------------------------- 0.6/2.1 MB 1.8 MB/s eta 0:00:01\n",
      "     ------------- -------------------------- 0.7/2.1 MB 1.8 MB/s eta 0:00:01\n",
      "     --------------- ------------------------ 0.8/2.1 MB 1.9 MB/s eta 0:00:01\n",
      "     ----------------- ---------------------- 0.9/2.1 MB 2.0 MB/s eta 0:00:01\n",
      "     ------------------ --------------------- 0.9/2.1 MB 2.0 MB/s eta 0:00:01\n",
      "     ------------------ --------------------- 0.9/2.1 MB 2.0 MB/s eta 0:00:01\n",
      "     ------------------ --------------------- 0.9/2.1 MB 2.0 MB/s eta 0:00:01\n",
      "     ------------------ --------------------- 0.9/2.1 MB 2.0 MB/s eta 0:00:01\n",
      "     -------------------- ------------------- 1.1/2.1 MB 1.6 MB/s eta 0:00:01\n",
      "     -------------------- ------------------- 1.1/2.1 MB 1.5 MB/s eta 0:00:01\n",
      "     --------------------- ------------------ 1.1/2.1 MB 1.4 MB/s eta 0:00:01\n",
      "     ------------------------ --------------- 1.2/2.1 MB 1.5 MB/s eta 0:00:01\n",
      "     -------------------------- ------------- 1.4/2.1 MB 1.5 MB/s eta 0:00:01\n",
      "     ----------------------------- ---------- 1.5/2.1 MB 1.6 MB/s eta 0:00:01\n",
      "     ------------------------------ --------- 1.6/2.1 MB 1.6 MB/s eta 0:00:01\n",
      "     ---------------------------------- ----- 1.8/2.1 MB 1.7 MB/s eta 0:00:01\n",
      "     ------------------------------------- -- 1.9/2.1 MB 1.8 MB/s eta 0:00:01\n",
      "     ---------------------------------------  2.0/2.1 MB 1.8 MB/s eta 0:00:01\n",
      "     ---------------------------------------  2.1/2.1 MB 1.8 MB/s eta 0:00:01\n",
      "     ---------------------------------------- 2.1/2.1 MB 1.8 MB/s eta 0:00:00\n",
      "Installing collected packages: pip\n",
      "  Attempting uninstall: pip\n",
      "    Found existing installation: pip 23.0.1\n",
      "    Uninstalling pip-23.0.1:\n",
      "      Successfully uninstalled pip-23.0.1\n",
      "Successfully installed pip-23.1.2\n",
      "Note: you may need to restart the kernel to use updated packages.\n"
     ]
    }
   ],
   "source": [
    "pip install --upgrade pip"
   ]
  },
  {
   "cell_type": "code",
   "execution_count": 6,
   "metadata": {},
   "outputs": [
    {
     "name": "stdout",
     "output_type": "stream",
     "text": [
      "Defaulting to user installation because normal site-packages is not writeable\n",
      "Collecting streamlit\n",
      "  Using cached streamlit-1.23.1-py2.py3-none-any.whl (8.9 MB)\n",
      "Collecting altair<6,>=4.0 (from streamlit)\n",
      "  Using cached altair-5.0.1-py3-none-any.whl (471 kB)\n",
      "Collecting blinker<2,>=1.0.0 (from streamlit)\n",
      "  Using cached blinker-1.6.2-py3-none-any.whl (13 kB)\n",
      "Requirement already satisfied: cachetools<6,>=4.0 in c:\\users\\user\\appdata\\roaming\\python\\python310\\site-packages (from streamlit) (5.3.0)\n",
      "Requirement already satisfied: click<9,>=7.0 in c:\\users\\user\\appdata\\roaming\\python\\python310\\site-packages (from streamlit) (8.1.3)\n",
      "Requirement already satisfied: importlib-metadata<7,>=1.4 in c:\\users\\user\\appdata\\roaming\\python\\python310\\site-packages (from streamlit) (6.1.0)\n",
      "Requirement already satisfied: numpy<2,>=1 in c:\\users\\user\\appdata\\roaming\\python\\python310\\site-packages (from streamlit) (1.23.5)\n",
      "Requirement already satisfied: packaging<24,>=14.1 in c:\\users\\user\\appdata\\roaming\\python\\python310\\site-packages (from streamlit) (21.3)\n",
      "Requirement already satisfied: pandas<3,>=0.25 in c:\\users\\user\\appdata\\roaming\\python\\python310\\site-packages (from streamlit) (1.5.2)\n",
      "Requirement already satisfied: pillow<10,>=6.2.0 in c:\\users\\user\\appdata\\roaming\\python\\python310\\site-packages (from streamlit) (9.3.0)\n",
      "Requirement already satisfied: protobuf<5,>=3.20 in c:\\users\\user\\appdata\\roaming\\python\\python310\\site-packages (from streamlit) (4.22.1)\n",
      "Collecting pyarrow>=4.0 (from streamlit)\n",
      "  Using cached pyarrow-12.0.0-cp310-cp310-win_amd64.whl (21.5 MB)\n",
      "Collecting pympler<2,>=0.9 (from streamlit)\n",
      "  Downloading Pympler-1.0.1-py3-none-any.whl (164 kB)\n",
      "                                              0.0/164.8 kB ? eta -:--:--\n",
      "     ---------                             41.0/164.8 kB 991.0 kB/s eta 0:00:01\n",
      "     ---------------------                   92.2/164.8 kB 1.3 MB/s eta 0:00:01\n",
      "     ---------------------                   92.2/164.8 kB 1.3 MB/s eta 0:00:01\n",
      "     ---------------------                   92.2/164.8 kB 1.3 MB/s eta 0:00:01\n",
      "     ---------------------                   92.2/164.8 kB 1.3 MB/s eta 0:00:01\n",
      "     -----------------------------------  163.8/164.8 kB 546.6 kB/s eta 0:00:01\n",
      "     ------------------------------------ 164.8/164.8 kB 520.4 kB/s eta 0:00:00\n",
      "Requirement already satisfied: python-dateutil<3,>=2 in c:\\users\\user\\appdata\\roaming\\python\\python310\\site-packages (from streamlit) (2.8.2)\n",
      "Requirement already satisfied: requests<3,>=2.4 in c:\\users\\user\\appdata\\roaming\\python\\python310\\site-packages (from streamlit) (2.28.2)\n",
      "Collecting rich<14,>=10.11.0 (from streamlit)\n",
      "  Using cached rich-13.4.1-py3-none-any.whl (239 kB)\n",
      "Collecting tenacity<9,>=8.0.0 (from streamlit)\n",
      "  Using cached tenacity-8.2.2-py3-none-any.whl (24 kB)\n",
      "Collecting toml<2 (from streamlit)\n",
      "  Using cached toml-0.10.2-py2.py3-none-any.whl (16 kB)\n",
      "Requirement already satisfied: typing-extensions<5,>=4.0.1 in c:\\users\\user\\appdata\\roaming\\python\\python310\\site-packages (from streamlit) (4.5.0)\n",
      "Collecting tzlocal<5,>=1.1 (from streamlit)\n",
      "  Using cached tzlocal-4.3-py3-none-any.whl (20 kB)\n",
      "Collecting validators<1,>=0.2 (from streamlit)\n",
      "  Using cached validators-0.20.0.tar.gz (30 kB)\n",
      "  Preparing metadata (setup.py): started\n",
      "  Preparing metadata (setup.py): finished with status 'done'\n",
      "Collecting gitpython!=3.1.19,<4,>=3 (from streamlit)\n",
      "  Using cached GitPython-3.1.31-py3-none-any.whl (184 kB)\n",
      "Collecting pydeck<1,>=0.1.dev5 (from streamlit)\n",
      "  Using cached pydeck-0.8.1b0-py2.py3-none-any.whl (4.8 MB)\n",
      "Requirement already satisfied: tornado<7,>=6.0.3 in c:\\users\\user\\appdata\\roaming\\python\\python310\\site-packages (from streamlit) (6.2)\n",
      "Collecting watchdog (from streamlit)\n",
      "  Using cached watchdog-3.0.0-py3-none-win_amd64.whl (82 kB)\n",
      "Requirement already satisfied: jinja2 in c:\\users\\user\\appdata\\roaming\\python\\python310\\site-packages (from altair<6,>=4.0->streamlit) (3.1.2)\n",
      "Requirement already satisfied: jsonschema>=3.0 in c:\\users\\user\\appdata\\roaming\\python\\python310\\site-packages (from altair<6,>=4.0->streamlit) (4.17.3)\n",
      "Requirement already satisfied: toolz in c:\\users\\user\\appdata\\roaming\\python\\python310\\site-packages (from altair<6,>=4.0->streamlit) (0.12.0)\n",
      "Requirement already satisfied: colorama in c:\\users\\user\\appdata\\roaming\\python\\python310\\site-packages (from click<9,>=7.0->streamlit) (0.4.6)\n",
      "Collecting gitdb<5,>=4.0.1 (from gitpython!=3.1.19,<4,>=3->streamlit)\n",
      "  Downloading gitdb-4.0.10-py3-none-any.whl (62 kB)\n",
      "                                              0.0/62.7 kB ? eta -:--:--\n",
      "     ---------------------------------------  61.4/62.7 kB 1.7 MB/s eta 0:00:01\n",
      "     -------------------------------------- 62.7/62.7 kB 833.3 kB/s eta 0:00:00\n",
      "Requirement already satisfied: zipp>=0.5 in c:\\users\\user\\appdata\\roaming\\python\\python310\\site-packages (from importlib-metadata<7,>=1.4->streamlit) (3.15.0)\n",
      "Requirement already satisfied: pyparsing!=3.0.5,>=2.0.2 in c:\\users\\user\\appdata\\roaming\\python\\python310\\site-packages (from packaging<24,>=14.1->streamlit) (3.0.9)\n",
      "Requirement already satisfied: pytz>=2020.1 in c:\\users\\user\\appdata\\roaming\\python\\python310\\site-packages (from pandas<3,>=0.25->streamlit) (2022.6)\n",
      "Requirement already satisfied: six>=1.5 in c:\\users\\user\\appdata\\roaming\\python\\python310\\site-packages (from python-dateutil<3,>=2->streamlit) (1.16.0)\n",
      "Requirement already satisfied: charset-normalizer<4,>=2 in c:\\users\\user\\appdata\\roaming\\python\\python310\\site-packages (from requests<3,>=2.4->streamlit) (3.0.1)\n",
      "Requirement already satisfied: idna<4,>=2.5 in c:\\users\\user\\appdata\\roaming\\python\\python310\\site-packages (from requests<3,>=2.4->streamlit) (3.4)\n",
      "Requirement already satisfied: urllib3<1.27,>=1.21.1 in c:\\users\\user\\appdata\\roaming\\python\\python310\\site-packages (from requests<3,>=2.4->streamlit) (1.26.14)\n",
      "Requirement already satisfied: certifi>=2017.4.17 in c:\\users\\user\\appdata\\roaming\\python\\python310\\site-packages (from requests<3,>=2.4->streamlit) (2022.12.7)\n",
      "Collecting markdown-it-py<3.0.0,>=2.2.0 (from rich<14,>=10.11.0->streamlit)\n",
      "  Downloading markdown_it_py-2.2.0-py3-none-any.whl (84 kB)\n",
      "                                              0.0/84.5 kB ? eta -:--:--\n",
      "     ---------------------------------------- 84.5/84.5 kB 4.6 MB/s eta 0:00:00\n",
      "Requirement already satisfied: pygments<3.0.0,>=2.13.0 in c:\\users\\user\\appdata\\roaming\\python\\python310\\site-packages (from rich<14,>=10.11.0->streamlit) (2.14.0)\n",
      "Collecting pytz-deprecation-shim (from tzlocal<5,>=1.1->streamlit)\n",
      "  Downloading pytz_deprecation_shim-0.1.0.post0-py2.py3-none-any.whl (15 kB)\n",
      "Collecting tzdata (from tzlocal<5,>=1.1->streamlit)\n",
      "  Downloading tzdata-2023.3-py2.py3-none-any.whl (341 kB)\n",
      "                                              0.0/341.8 kB ? eta -:--:--\n",
      "     -------                                 61.4/341.8 kB 3.2 MB/s eta 0:00:01\n",
      "     -------                                 61.4/341.8 kB 3.2 MB/s eta 0:00:01\n",
      "     -------                                 61.4/341.8 kB 3.2 MB/s eta 0:00:01\n",
      "     -------                                 61.4/341.8 kB 3.2 MB/s eta 0:00:01\n",
      "     -------                                 61.4/341.8 kB 3.2 MB/s eta 0:00:01\n",
      "     ------------------                   174.1/341.8 kB 655.4 kB/s eta 0:00:01\n",
      "     --------------------                 194.6/341.8 kB 590.8 kB/s eta 0:00:01\n",
      "     -------------------------            245.8/341.8 kB 656.0 kB/s eta 0:00:01\n",
      "     ------------------------------       286.7/341.8 kB 707.1 kB/s eta 0:00:01\n",
      "     ------------------------------------ 341.8/341.8 kB 758.8 kB/s eta 0:00:00\n",
      "Requirement already satisfied: decorator>=3.4.0 in c:\\users\\user\\appdata\\roaming\\python\\python310\\site-packages (from validators<1,>=0.2->streamlit) (5.1.1)\n",
      "Collecting smmap<6,>=3.0.1 (from gitdb<5,>=4.0.1->gitpython!=3.1.19,<4,>=3->streamlit)\n",
      "  Downloading smmap-5.0.0-py3-none-any.whl (24 kB)\n",
      "Requirement already satisfied: MarkupSafe>=2.0 in c:\\users\\user\\appdata\\roaming\\python\\python310\\site-packages (from jinja2->altair<6,>=4.0->streamlit) (2.1.2)\n",
      "Requirement already satisfied: attrs>=17.4.0 in c:\\users\\user\\appdata\\roaming\\python\\python310\\site-packages (from jsonschema>=3.0->altair<6,>=4.0->streamlit) (22.2.0)\n",
      "Requirement already satisfied: pyrsistent!=0.17.0,!=0.17.1,!=0.17.2,>=0.14.0 in c:\\users\\user\\appdata\\roaming\\python\\python310\\site-packages (from jsonschema>=3.0->altair<6,>=4.0->streamlit) (0.19.3)\n",
      "Collecting mdurl~=0.1 (from markdown-it-py<3.0.0,>=2.2.0->rich<14,>=10.11.0->streamlit)\n",
      "  Downloading mdurl-0.1.2-py3-none-any.whl (10.0 kB)\n",
      "Building wheels for collected packages: validators\n",
      "  Building wheel for validators (setup.py): started\n",
      "  Building wheel for validators (setup.py): finished with status 'done'\n",
      "  Created wheel for validators: filename=validators-0.20.0-py3-none-any.whl size=19590 sha256=57ccf91fcabd8f333096a019c9f26283c9f667dc2a47424cc30cf32b9e7f5fc2\n",
      "  Stored in directory: c:\\users\\user\\appdata\\local\\pip\\cache\\wheels\\f2\\ed\\dd\\d3a556ad245ef9dc570c6bcd2f22886d17b0b408dd3bbb9ac3\n",
      "Successfully built validators\n",
      "Installing collected packages: watchdog, validators, tzdata, toml, tenacity, smmap, pympler, pyarrow, mdurl, blinker, pytz-deprecation-shim, pydeck, markdown-it-py, gitdb, tzlocal, rich, gitpython, altair, streamlit\n",
      "Successfully installed altair-5.0.1 blinker-1.6.2 gitdb-4.0.10 gitpython-3.1.31 markdown-it-py-2.2.0 mdurl-0.1.2 pyarrow-12.0.0 pydeck-0.8.1b0 pympler-1.0.1 pytz-deprecation-shim-0.1.0.post0 rich-13.4.1 smmap-5.0.0 streamlit-1.23.1 tenacity-8.2.2 toml-0.10.2 tzdata-2023.3 tzlocal-4.3 validators-0.20.0 watchdog-3.0.0\n"
     ]
    }
   ],
   "source": [
    "!pip install streamlit"
   ]
  },
  {
   "cell_type": "code",
   "execution_count": 7,
   "metadata": {},
   "outputs": [],
   "source": [
    "import streamlit as st"
   ]
  },
  {
   "cell_type": "code",
   "execution_count": 14,
   "metadata": {},
   "outputs": [],
   "source": [
    "mkdir emailapp"
   ]
  },
  {
   "cell_type": "code",
   "execution_count": 15,
   "metadata": {},
   "outputs": [
    {
     "name": "stdout",
     "output_type": "stream",
     "text": [
      "c:\\Users\\user\\AppData\\Local\\Programs\\Microsoft VS Code\\emailapp\n"
     ]
    }
   ],
   "source": [
    "cd emailapp"
   ]
  },
  {
   "cell_type": "code",
   "execution_count": 16,
   "metadata": {},
   "outputs": [],
   "source": [
    "mkdir envs"
   ]
  },
  {
   "cell_type": "code",
   "execution_count": 17,
   "metadata": {},
   "outputs": [
    {
     "name": "stdout",
     "output_type": "stream",
     "text": [
      "c:\\Users\\user\\AppData\\Local\\Programs\\Microsoft VS Code\\emailapp\\envs\n"
     ]
    }
   ],
   "source": [
    "cd envs"
   ]
  },
  {
   "cell_type": "code",
   "execution_count": 23,
   "metadata": {},
   "outputs": [],
   "source": [
    "import streamlit as st"
   ]
  },
  {
   "cell_type": "code",
   "execution_count": 26,
   "metadata": {},
   "outputs": [
    {
     "name": "stdout",
     "output_type": "stream",
     "text": [
      "Defaulting to user installation because normal site-packages is not writeable\n",
      "Collecting langchain\n",
      "  Downloading langchain-0.0.189-py3-none-any.whl (975 kB)\n",
      "                                              0.0/975.6 kB ? eta -:--:--\n",
      "     --                                      61.4/975.6 kB 1.7 MB/s eta 0:00:01\n",
      "     ------                                 163.8/975.6 kB 2.0 MB/s eta 0:00:01\n",
      "     ---------                              245.8/975.6 kB 1.9 MB/s eta 0:00:01\n",
      "     -------------                          337.9/975.6 kB 1.9 MB/s eta 0:00:01\n",
      "     -----------------                      440.3/975.6 kB 2.0 MB/s eta 0:00:01\n",
      "     -------------------                    491.5/975.6 kB 2.0 MB/s eta 0:00:01\n",
      "     -------------------                    491.5/975.6 kB 2.0 MB/s eta 0:00:01\n",
      "     -------------------                    491.5/975.6 kB 2.0 MB/s eta 0:00:01\n",
      "     -------------------                    491.5/975.6 kB 2.0 MB/s eta 0:00:01\n",
      "     -----------------------                614.4/975.6 kB 1.4 MB/s eta 0:00:01\n",
      "     -------------------------              645.1/975.6 kB 1.2 MB/s eta 0:00:01\n",
      "     ----------------------------           727.0/975.6 kB 1.2 MB/s eta 0:00:01\n",
      "     ----------------------------------     880.6/975.6 kB 1.4 MB/s eta 0:00:01\n",
      "     -------------------------------------  972.8/975.6 kB 1.5 MB/s eta 0:00:01\n",
      "     -------------------------------------- 975.6/975.6 kB 1.4 MB/s eta 0:00:00\n",
      "Requirement already satisfied: PyYAML>=5.4.1 in c:\\users\\user\\appdata\\roaming\\python\\python310\\site-packages (from langchain) (6.0)\n",
      "Collecting SQLAlchemy<3,>=1.4 (from langchain)\n",
      "  Downloading SQLAlchemy-2.0.15-cp310-cp310-win_amd64.whl (2.0 MB)\n",
      "                                              0.0/2.0 MB ? eta -:--:--\n",
      "     --                                       0.1/2.0 MB ? eta -:--:--\n",
      "     ----                                     0.2/2.0 MB 2.3 MB/s eta 0:00:01\n",
      "     -------                                  0.4/2.0 MB 2.9 MB/s eta 0:00:01\n",
      "     ---------                                0.5/2.0 MB 2.6 MB/s eta 0:00:01\n",
      "     ------------                             0.6/2.0 MB 2.6 MB/s eta 0:00:01\n",
      "     ---------------                          0.8/2.0 MB 2.8 MB/s eta 0:00:01\n",
      "     -------------------                      0.9/2.0 MB 3.0 MB/s eta 0:00:01\n",
      "     ----------------------                   1.1/2.0 MB 2.9 MB/s eta 0:00:01\n",
      "     -------------------------                1.3/2.0 MB 3.0 MB/s eta 0:00:01\n",
      "     -----------------------------            1.4/2.0 MB 3.1 MB/s eta 0:00:01\n",
      "     --------------------------------         1.6/2.0 MB 3.1 MB/s eta 0:00:01\n",
      "     ----------------------------------       1.7/2.0 MB 3.2 MB/s eta 0:00:01\n",
      "     ----------------------------------       1.7/2.0 MB 3.2 MB/s eta 0:00:01\n",
      "     ----------------------------------       1.7/2.0 MB 3.2 MB/s eta 0:00:01\n",
      "     ----------------------------------       1.7/2.0 MB 3.2 MB/s eta 0:00:01\n",
      "     --------------------------------------   1.9/2.0 MB 2.6 MB/s eta 0:00:01\n",
      "     ---------------------------------------  1.9/2.0 MB 2.5 MB/s eta 0:00:01\n",
      "     ---------------------------------------- 2.0/2.0 MB 2.4 MB/s eta 0:00:00\n",
      "Collecting aiohttp<4.0.0,>=3.8.3 (from langchain)\n",
      "  Downloading aiohttp-3.8.4-cp310-cp310-win_amd64.whl (319 kB)\n",
      "                                              0.0/319.8 kB ? eta -:--:--\n",
      "     -------------------------------------  317.4/319.8 kB 9.9 MB/s eta 0:00:01\n",
      "     -------------------------------------- 319.8/319.8 kB 6.6 MB/s eta 0:00:00\n",
      "Collecting async-timeout<5.0.0,>=4.0.0 (from langchain)\n",
      "  Downloading async_timeout-4.0.2-py3-none-any.whl (5.8 kB)\n",
      "Collecting dataclasses-json<0.6.0,>=0.5.7 (from langchain)\n",
      "  Downloading dataclasses_json-0.5.7-py3-none-any.whl (25 kB)\n",
      "Requirement already satisfied: numexpr<3.0.0,>=2.8.4 in c:\\users\\user\\appdata\\roaming\\python\\python310\\site-packages (from langchain) (2.8.4)\n",
      "Requirement already satisfied: numpy<2,>=1 in c:\\users\\user\\appdata\\roaming\\python\\python310\\site-packages (from langchain) (1.23.5)\n",
      "Collecting openapi-schema-pydantic<2.0,>=1.2 (from langchain)\n",
      "  Downloading openapi_schema_pydantic-1.2.4-py3-none-any.whl (90 kB)\n",
      "                                              0.0/90.0 kB ? eta -:--:--\n",
      "     ---------------------------------------- 90.0/90.0 kB 5.0 MB/s eta 0:00:00\n",
      "Requirement already satisfied: pydantic<2,>=1 in c:\\users\\user\\appdata\\roaming\\python\\python310\\site-packages (from langchain) (1.10.5)\n",
      "Requirement already satisfied: requests<3,>=2 in c:\\users\\user\\appdata\\roaming\\python\\python310\\site-packages (from langchain) (2.28.2)\n",
      "Requirement already satisfied: tenacity<9.0.0,>=8.1.0 in c:\\users\\user\\appdata\\roaming\\python\\python310\\site-packages (from langchain) (8.2.2)\n",
      "Requirement already satisfied: attrs>=17.3.0 in c:\\users\\user\\appdata\\roaming\\python\\python310\\site-packages (from aiohttp<4.0.0,>=3.8.3->langchain) (22.2.0)\n",
      "Requirement already satisfied: charset-normalizer<4.0,>=2.0 in c:\\users\\user\\appdata\\roaming\\python\\python310\\site-packages (from aiohttp<4.0.0,>=3.8.3->langchain) (3.0.1)\n",
      "Collecting multidict<7.0,>=4.5 (from aiohttp<4.0.0,>=3.8.3->langchain)\n",
      "  Downloading multidict-6.0.4-cp310-cp310-win_amd64.whl (28 kB)\n",
      "Collecting yarl<2.0,>=1.0 (from aiohttp<4.0.0,>=3.8.3->langchain)\n",
      "  Downloading yarl-1.9.2-cp310-cp310-win_amd64.whl (61 kB)\n",
      "                                              0.0/61.0 kB ? eta -:--:--\n",
      "     ---------------------------------------- 61.0/61.0 kB 3.4 MB/s eta 0:00:00\n",
      "Collecting frozenlist>=1.1.1 (from aiohttp<4.0.0,>=3.8.3->langchain)\n",
      "  Downloading frozenlist-1.3.3-cp310-cp310-win_amd64.whl (33 kB)\n",
      "Collecting aiosignal>=1.1.2 (from aiohttp<4.0.0,>=3.8.3->langchain)\n",
      "  Downloading aiosignal-1.3.1-py3-none-any.whl (7.6 kB)\n",
      "Collecting marshmallow<4.0.0,>=3.3.0 (from dataclasses-json<0.6.0,>=0.5.7->langchain)\n",
      "  Downloading marshmallow-3.19.0-py3-none-any.whl (49 kB)\n",
      "                                              0.0/49.1 kB ? eta -:--:--\n",
      "     ---------------------------------------- 49.1/49.1 kB ? eta 0:00:00\n",
      "Collecting marshmallow-enum<2.0.0,>=1.5.1 (from dataclasses-json<0.6.0,>=0.5.7->langchain)\n",
      "  Downloading marshmallow_enum-1.5.1-py2.py3-none-any.whl (4.2 kB)\n",
      "Collecting typing-inspect>=0.4.0 (from dataclasses-json<0.6.0,>=0.5.7->langchain)\n",
      "  Downloading typing_inspect-0.9.0-py3-none-any.whl (8.8 kB)\n",
      "Requirement already satisfied: typing-extensions>=4.2.0 in c:\\users\\user\\appdata\\roaming\\python\\python310\\site-packages (from pydantic<2,>=1->langchain) (4.5.0)\n",
      "Requirement already satisfied: idna<4,>=2.5 in c:\\users\\user\\appdata\\roaming\\python\\python310\\site-packages (from requests<3,>=2->langchain) (3.4)\n",
      "Requirement already satisfied: urllib3<1.27,>=1.21.1 in c:\\users\\user\\appdata\\roaming\\python\\python310\\site-packages (from requests<3,>=2->langchain) (1.26.14)\n",
      "Requirement already satisfied: certifi>=2017.4.17 in c:\\users\\user\\appdata\\roaming\\python\\python310\\site-packages (from requests<3,>=2->langchain) (2022.12.7)\n",
      "Collecting greenlet!=0.4.17 (from SQLAlchemy<3,>=1.4->langchain)\n",
      "  Downloading greenlet-2.0.2-cp310-cp310-win_amd64.whl (192 kB)\n",
      "                                              0.0/192.2 kB ? eta -:--:--\n",
      "     ------------------------------------- 192.2/192.2 kB 11.4 MB/s eta 0:00:00\n",
      "Requirement already satisfied: packaging>=17.0 in c:\\users\\user\\appdata\\roaming\\python\\python310\\site-packages (from marshmallow<4.0.0,>=3.3.0->dataclasses-json<0.6.0,>=0.5.7->langchain) (21.3)\n",
      "Collecting mypy-extensions>=0.3.0 (from typing-inspect>=0.4.0->dataclasses-json<0.6.0,>=0.5.7->langchain)\n",
      "  Downloading mypy_extensions-1.0.0-py3-none-any.whl (4.7 kB)\n",
      "Requirement already satisfied: pyparsing!=3.0.5,>=2.0.2 in c:\\users\\user\\appdata\\roaming\\python\\python310\\site-packages (from packaging>=17.0->marshmallow<4.0.0,>=3.3.0->dataclasses-json<0.6.0,>=0.5.7->langchain) (3.0.9)\n",
      "Installing collected packages: mypy-extensions, multidict, greenlet, frozenlist, async-timeout, yarl, typing-inspect, SQLAlchemy, openapi-schema-pydantic, marshmallow, aiosignal, marshmallow-enum, aiohttp, dataclasses-json, langchain\n",
      "Successfully installed SQLAlchemy-2.0.15 aiohttp-3.8.4 aiosignal-1.3.1 async-timeout-4.0.2 dataclasses-json-0.5.7 frozenlist-1.3.3 greenlet-2.0.2 langchain-0.0.189 marshmallow-3.19.0 marshmallow-enum-1.5.1 multidict-6.0.4 mypy-extensions-1.0.0 openapi-schema-pydantic-1.2.4 typing-inspect-0.9.0 yarl-1.9.2\n",
      "Note: you may need to restart the kernel to use updated packages.\n"
     ]
    }
   ],
   "source": [
    "pip install langchain"
   ]
  },
  {
   "cell_type": "code",
   "execution_count": 27,
   "metadata": {},
   "outputs": [],
   "source": [
    "from langchain import PromptTemplate\n",
    "from langchain.llms import OpenAI"
   ]
  },
  {
   "cell_type": "code",
   "execution_count": 28,
   "metadata": {},
   "outputs": [],
   "source": [
    "template = \"\"\"\n",
    "    Below is an email that may be poorly worded.\n",
    "    Your goal is to:\n",
    "    - Properly format the email\n",
    "    - Convert the input text to a specified tone\n",
    "    - Convert the input text to a specified dialect\n",
    "\n",
    "    Here are some examples different Tones:\n",
    "    - Formal: We went to Barcelona for the weekend. We have a lot of things to tell you.\n",
    "    - Informal: Went to Barcelona for the weekend. Lots to tell you.  \n",
    "\n",
    "    Here are some examples of words in different dialects:\n",
    "    - American: French Fries, cotton candy, apartment, garbage, cookie, green thumb, parking lot, pants, windshield\n",
    "    - British: chips, candyfloss, flag, rubbish, biscuit, green fingers, car park, trousers, windscreen\n",
    "\n",
    "    Example Sentences from each dialect:\n",
    "    - American: I headed straight for the produce section to grab some fresh vegetables, like bell peppers and zucchini. After that, I made my way to the meat department to pick up some chicken breasts.\n",
    "    - British: Well, I popped down to the local shop just the other day to pick up a few bits and bobs. As I was perusing the aisles, I noticed that they were fresh out of biscuits, which was a bit of a disappointment, as I do love a good cuppa with a biscuit or two.\n",
    "\n",
    "    Please start the email with a warm introduction. Add the introduction if you need to.\n",
    "    \n",
    "    Below is the email, tone, and dialect:\n",
    "    TONE: {tone}\n",
    "    DIALECT: {dialect}\n",
    "    EMAIL: {email}\n",
    "    \n",
    "    YOUR {dialect} RESPONSE:\n",
    "\"\"\""
   ]
  },
  {
   "cell_type": "code",
   "execution_count": 29,
   "metadata": {},
   "outputs": [],
   "source": [
    "prompt = PromptTemplate(\n",
    "    input_variables=[\"tone\", \"dialect\", \"email\"],\n",
    "    template=template,\n",
    ")"
   ]
  },
  {
   "cell_type": "code",
   "execution_count": 30,
   "metadata": {},
   "outputs": [],
   "source": [
    "def load_LLM(openai_api_key):\n",
    "    \"\"\"Logic for loading the chain you want to use should go here.\"\"\"\n",
    "    # Make sure your openai_api_key is set as an environment variable\n",
    "    llm = OpenAI(temperature=.7, openai_api_key=openai_api_key)\n",
    "    return llm"
   ]
  },
  {
   "cell_type": "code",
   "execution_count": 39,
   "metadata": {},
   "outputs": [
    {
     "data": {
      "text/plain": [
       "DeltaGenerator()"
      ]
     },
     "execution_count": 39,
     "metadata": {},
     "output_type": "execute_result"
    }
   ],
   "source": [
    "st.set_page_config(page_title=\"Globalize Email\", page_icon=\":robot:\")\n",
    "st.header(\"Globalize Text\")\n"
   ]
  },
  {
   "cell_type": "code",
   "execution_count": 44,
   "metadata": {},
   "outputs": [],
   "source": [
    "col1, = st.columns(1)\n",
    "\n",
    "with col1:\n",
    "    st.markdown(\"Often professionals would like to improve their emails, but don't have the skills to do so. \\n\\n This tool \\\n",
    "                will help you improve your email skills by converting your emails into a more professional format. This tool \\\n",
    "                is powered by [LangChain](https://langchain.com/) and [OpenAI](https://openai.com) and made by \\\n",
    "                [@GregKamradt](https://twitter.com/GregKamradt). \\n\\n View Source Code on [Github](https://github.com/gkamradt/globalize-text-streamlit/blob/main/main.py)\")"
   ]
  },
  {
   "cell_type": "code",
   "execution_count": 45,
   "metadata": {},
   "outputs": [
    {
     "data": {
      "text/plain": [
       "DeltaGenerator()"
      ]
     },
     "execution_count": 45,
     "metadata": {},
     "output_type": "execute_result"
    }
   ],
   "source": [
    "st.markdown(\"## Enter Your Email To Convert\")\n"
   ]
  },
  {
   "cell_type": "code",
   "execution_count": 46,
   "metadata": {},
   "outputs": [],
   "source": [
    "def get_api_key():\n",
    "    input_text = st.text_input(label=\"OpenAI API Key \",  placeholder=\"Ex: sk-2twmA8tfCb8un4...\", key=\"openai_api_key_input\")\n",
    "    return input_text\n",
    "\n",
    "openai_api_key = get_api_key()"
   ]
  },
  {
   "cell_type": "code",
   "execution_count": 47,
   "metadata": {},
   "outputs": [],
   "source": [
    "col1, col2 = st.columns(2)\n",
    "with col1:\n",
    "    option_tone = st.selectbox(\n",
    "        'Which tone would you like your email to have?',\n",
    "        ('Formal', 'Informal'))\n",
    "    \n",
    "with col2:\n",
    "    option_dialect = st.selectbox(\n",
    "        'Which English Dialect would you like?',\n",
    "        ('American', 'British'))\n"
   ]
  },
  {
   "cell_type": "code",
   "execution_count": 48,
   "metadata": {},
   "outputs": [
    {
     "data": {
      "text/plain": [
       "DeltaGenerator()"
      ]
     },
     "execution_count": 48,
     "metadata": {},
     "output_type": "execute_result"
    }
   ],
   "source": [
    "def get_text():\n",
    "    input_text = st.text_area(label=\"Email Input\", label_visibility='collapsed', placeholder=\"Your Email...\", key=\"email_input\")\n",
    "    return input_text\n",
    "\n",
    "email_input = get_text()\n",
    "\n",
    "if len(email_input.split(\" \")) > 700:\n",
    "    st.write(\"Please enter a shorter email. The maximum length is 700 words.\")\n",
    "    st.stop()\n",
    "\n",
    "def update_text_with_example():\n",
    "    print (\"in updated\")\n",
    "    st.session_state.email_input = \"Sally I am starts work at yours monday from dave\"\n",
    "\n",
    "st.button(\"*See An Example*\", type='secondary', help=\"Click to see an example of the email you will be converting.\", on_click=update_text_with_example)\n",
    "\n",
    "st.markdown(\"### Your Converted Email:\")"
   ]
  },
  {
   "cell_type": "code",
   "execution_count": 49,
   "metadata": {},
   "outputs": [],
   "source": [
    "if email_input:\n",
    "    if not openai_api_key:\n",
    "        st.warning('Please insert OpenAI API Key. Instructions [here](https://help.openai.com/en/articles/4936850-where-do-i-find-my-secret-api-key)', icon=\"⚠️\")\n",
    "        st.stop()\n",
    "\n",
    "    llm = load_LLM(openai_api_key=openai_api_key)\n",
    "\n",
    "    prompt_with_email = prompt.format(tone=option_tone, dialect=option_dialect, email=email_input)\n",
    "\n",
    "    formatted_email = llm(prompt_with_email)\n",
    "\n",
    "    st.write(formatted_email)"
   ]
  },
  {
   "cell_type": "code",
   "execution_count": null,
   "metadata": {},
   "outputs": [],
   "source": []
  }
 ],
 "metadata": {
  "kernelspec": {
   "display_name": "Python 3",
   "language": "python",
   "name": "python3"
  },
  "language_info": {
   "codemirror_mode": {
    "name": "ipython",
    "version": 3
   },
   "file_extension": ".py",
   "mimetype": "text/x-python",
   "name": "python",
   "nbconvert_exporter": "python",
   "pygments_lexer": "ipython3",
   "version": "3.10.7"
  },
  "orig_nbformat": 4
 },
 "nbformat": 4,
 "nbformat_minor": 2
}
